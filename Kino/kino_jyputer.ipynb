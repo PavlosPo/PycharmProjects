{
 "cells": [
  {
   "cell_type": "code",
   "execution_count": 1,
   "metadata": {},
   "outputs": [],
   "source": [
    "import pandas"
   ]
  },
  {
   "cell_type": "code",
   "execution_count": 2,
   "metadata": {},
   "outputs": [],
   "source": [
    "data = pandas.read_csv('Ready_Csv_File.csv')\n"
   ]
  },
  {
   "cell_type": "code",
   "execution_count": 5,
   "metadata": {},
   "outputs": [
    {
     "data": {
      "text/html": [
       "<div>\n",
       "<style scoped>\n",
       "    .dataframe tbody tr th:only-of-type {\n",
       "        vertical-align: middle;\n",
       "    }\n",
       "\n",
       "    .dataframe tbody tr th {\n",
       "        vertical-align: top;\n",
       "    }\n",
       "\n",
       "    .dataframe thead th {\n",
       "        text-align: right;\n",
       "    }\n",
       "</style>\n",
       "<table border=\"1\" class=\"dataframe\">\n",
       "  <thead>\n",
       "    <tr style=\"text-align: right;\">\n",
       "      <th></th>\n",
       "      <th>number</th>\n",
       "      <th>time</th>\n",
       "      <th>1num</th>\n",
       "      <th>2num</th>\n",
       "      <th>3num</th>\n",
       "      <th>4num</th>\n",
       "      <th>5num</th>\n",
       "      <th>6num</th>\n",
       "      <th>7num</th>\n",
       "      <th>8num</th>\n",
       "      <th>...</th>\n",
       "      <th>11num</th>\n",
       "      <th>12num</th>\n",
       "      <th>13num</th>\n",
       "      <th>14num</th>\n",
       "      <th>15num</th>\n",
       "      <th>16num</th>\n",
       "      <th>17num</th>\n",
       "      <th>18num</th>\n",
       "      <th>19num</th>\n",
       "      <th>20num</th>\n",
       "    </tr>\n",
       "  </thead>\n",
       "  <tbody>\n",
       "    <tr>\n",
       "      <th>0</th>\n",
       "      <td>891645</td>\n",
       "      <td>21:55</td>\n",
       "      <td>78</td>\n",
       "      <td>36</td>\n",
       "      <td>10</td>\n",
       "      <td>52</td>\n",
       "      <td>12</td>\n",
       "      <td>65</td>\n",
       "      <td>17</td>\n",
       "      <td>26</td>\n",
       "      <td>...</td>\n",
       "      <td>55</td>\n",
       "      <td>40</td>\n",
       "      <td>13</td>\n",
       "      <td>76</td>\n",
       "      <td>33</td>\n",
       "      <td>39</td>\n",
       "      <td>59</td>\n",
       "      <td>24</td>\n",
       "      <td>47</td>\n",
       "      <td>57</td>\n",
       "    </tr>\n",
       "    <tr>\n",
       "      <th>1</th>\n",
       "      <td>891644</td>\n",
       "      <td>21:50</td>\n",
       "      <td>61</td>\n",
       "      <td>5</td>\n",
       "      <td>54</td>\n",
       "      <td>10</td>\n",
       "      <td>22</td>\n",
       "      <td>64</td>\n",
       "      <td>12</td>\n",
       "      <td>42</td>\n",
       "      <td>...</td>\n",
       "      <td>38</td>\n",
       "      <td>13</td>\n",
       "      <td>73</td>\n",
       "      <td>20</td>\n",
       "      <td>49</td>\n",
       "      <td>63</td>\n",
       "      <td>68</td>\n",
       "      <td>44</td>\n",
       "      <td>25</td>\n",
       "      <td>69</td>\n",
       "    </tr>\n",
       "    <tr>\n",
       "      <th>2</th>\n",
       "      <td>891643</td>\n",
       "      <td>21:45</td>\n",
       "      <td>78</td>\n",
       "      <td>4</td>\n",
       "      <td>72</td>\n",
       "      <td>40</td>\n",
       "      <td>11</td>\n",
       "      <td>26</td>\n",
       "      <td>15</td>\n",
       "      <td>66</td>\n",
       "      <td>...</td>\n",
       "      <td>52</td>\n",
       "      <td>63</td>\n",
       "      <td>64</td>\n",
       "      <td>68</td>\n",
       "      <td>9</td>\n",
       "      <td>30</td>\n",
       "      <td>49</td>\n",
       "      <td>50</td>\n",
       "      <td>67</td>\n",
       "      <td>34</td>\n",
       "    </tr>\n",
       "    <tr>\n",
       "      <th>3</th>\n",
       "      <td>891642</td>\n",
       "      <td>21:40</td>\n",
       "      <td>67</td>\n",
       "      <td>55</td>\n",
       "      <td>26</td>\n",
       "      <td>12</td>\n",
       "      <td>16</td>\n",
       "      <td>44</td>\n",
       "      <td>18</td>\n",
       "      <td>47</td>\n",
       "      <td>...</td>\n",
       "      <td>9</td>\n",
       "      <td>30</td>\n",
       "      <td>49</td>\n",
       "      <td>43</td>\n",
       "      <td>27</td>\n",
       "      <td>3</td>\n",
       "      <td>75</td>\n",
       "      <td>41</td>\n",
       "      <td>8</td>\n",
       "      <td>48</td>\n",
       "    </tr>\n",
       "    <tr>\n",
       "      <th>4</th>\n",
       "      <td>891641</td>\n",
       "      <td>21:35</td>\n",
       "      <td>33</td>\n",
       "      <td>65</td>\n",
       "      <td>68</td>\n",
       "      <td>32</td>\n",
       "      <td>18</td>\n",
       "      <td>29</td>\n",
       "      <td>4</td>\n",
       "      <td>28</td>\n",
       "      <td>...</td>\n",
       "      <td>20</td>\n",
       "      <td>43</td>\n",
       "      <td>24</td>\n",
       "      <td>47</td>\n",
       "      <td>21</td>\n",
       "      <td>27</td>\n",
       "      <td>80</td>\n",
       "      <td>26</td>\n",
       "      <td>60</td>\n",
       "      <td>56</td>\n",
       "    </tr>\n",
       "  </tbody>\n",
       "</table>\n",
       "<p>5 rows × 22 columns</p>\n",
       "</div>"
      ],
      "text/plain": [
       "   number   time  1num  2num  3num  4num  5num  6num  7num  8num  ...  11num  \\\n",
       "0  891645  21:55    78    36    10    52    12    65    17    26  ...     55   \n",
       "1  891644  21:50    61     5    54    10    22    64    12    42  ...     38   \n",
       "2  891643  21:45    78     4    72    40    11    26    15    66  ...     52   \n",
       "3  891642  21:40    67    55    26    12    16    44    18    47  ...      9   \n",
       "4  891641  21:35    33    65    68    32    18    29     4    28  ...     20   \n",
       "\n",
       "   12num  13num  14num  15num  16num  17num  18num  19num  20num  \n",
       "0     40     13     76     33     39     59     24     47     57  \n",
       "1     13     73     20     49     63     68     44     25     69  \n",
       "2     63     64     68      9     30     49     50     67     34  \n",
       "3     30     49     43     27      3     75     41      8     48  \n",
       "4     43     24     47     21     27     80     26     60     56  \n",
       "\n",
       "[5 rows x 22 columns]"
      ]
     },
     "execution_count": 5,
     "metadata": {},
     "output_type": "execute_result"
    }
   ],
   "source": [
    "data.head()"
   ]
  },
  {
   "cell_type": "code",
   "execution_count": 6,
   "metadata": {},
   "outputs": [
    {
     "name": "stdout",
     "output_type": "stream",
     "text": [
      "Index(['1num', '2num', '3num', '4num', '5num', '6num', '7num', '8num', '9num',\n",
      "       '10num', '11num', '12num', '13num', '14num', '15num', '16num', '17num',\n",
      "       '18num', '19num', '20num'],\n",
      "      dtype='object')\n"
     ]
    }
   ],
   "source": [
    "# lucky_numbers = (17, 18, 37, 60, 10)\n",
    "data_columns_list = data.columns[2:]\n",
    "print(data_columns_list)\n",
    "list_of_tupples = []"
   ]
  },
  {
   "cell_type": "code",
   "execution_count": 7,
   "metadata": {},
   "outputs": [],
   "source": [
    "for index, rows in data.iterrows() :\n",
    "    new_tupple = (data.at[index, 'number'], rows['1num'], rows['2num'], rows['3num'], rows['4num'], rows['5num'], rows['6num'], rows['7num'], rows['8num'], rows['9num'], rows['10num'], rows['11num'], rows['12num'], rows['13num'], rows['14num'], rows['15num'],rows['16num'], rows['17num'], rows['18num'], rows['19num'], rows['20num'])\n",
    "    list_of_tupples.append(new_tupple)\n",
    "#     print(new_tupple)"
   ]
  },
  {
   "cell_type": "code",
   "execution_count": 6,
   "metadata": {},
   "outputs": [],
   "source": [
    "# list_of_tupples.clear()"
   ]
  },
  {
   "cell_type": "code",
   "execution_count": 13,
   "metadata": {},
   "outputs": [
    {
     "name": "stdout",
     "output_type": "stream",
     "text": [
      "4584\n"
     ]
    }
   ],
   "source": [
    "# list_of_tupples.clear()\n",
    "type(list_of_tupples)\n",
    "print(len(list_of_tupples))"
   ]
  },
  {
   "cell_type": "code",
   "execution_count": null,
   "metadata": {},
   "outputs": [],
   "source": []
  },
  {
   "cell_type": "code",
   "execution_count": 19,
   "metadata": {},
   "outputs": [],
   "source": [
    "lucky_numbers = (16, 45, 54, 46, 18)\n",
    "counter = 0 \n",
    "for current_tupple in list_of_tupples:\n",
    "    if set(lucky_numbers).issubset(current_tupple[1:]):\n",
    "        counter += 1"
   ]
  },
  {
   "cell_type": "code",
   "execution_count": 20,
   "metadata": {},
   "outputs": [
    {
     "name": "stdout",
     "output_type": "stream",
     "text": [
      "5\n"
     ]
    }
   ],
   "source": [
    "print(counter)"
   ]
  },
  {
   "cell_type": "code",
   "execution_count": null,
   "metadata": {},
   "outputs": [],
   "source": [
    "# creating all possible lucky number combinations."
   ]
  },
  {
   "cell_type": "code",
   "execution_count": 29,
   "metadata": {},
   "outputs": [],
   "source": [
    "import itertools\n",
    "import numpy as np"
   ]
  },
  {
   "cell_type": "code",
   "execution_count": 104,
   "metadata": {},
   "outputs": [
    {
     "name": "stdout",
     "output_type": "stream",
     "text": [
      "[(1, 2, 3, 4), (1, 2, 3, 5), (1, 2, 3, 6), (1, 2, 3, 7), (1, 2, 3, 8), (1, 2, 3, 9), (1, 2, 3, 10), (1, 2, 3, 11), (1, 2, 3, 12), (1, 2, 3, 13), (1, 2, 3, 14), (1, 2, 3, 15), (1, 2, 3, 16), (1, 2, 3, 17), (1, 2, 3, 18), (1, 2, 3, 19), (1, 2, 3, 20), (1, 2, 3, 21), (1, 2, 3, 22), (1, 2, 3, 23), (1, 2, 3, 24), (1, 2, 3, 25), (1, 2, 3, 26), (1, 2, 3, 27), (1, 2, 3, 28), (1, 2, 3, 29), (1, 2, 3, 30), (1, 2, 3, 31), (1, 2, 3, 32), (1, 2, 3, 33), (1, 2, 3, 34), (1, 2, 3, 35), (1, 2, 3, 36), (1, 2, 3, 37), (1, 2, 3, 38), (1, 2, 3, 39), (1, 2, 3, 40), (1, 2, 3, 41), (1, 2, 3, 42), (1, 2, 3, 43), (1, 2, 3, 44), (1, 2, 3, 45), (1, 2, 3, 46), (1, 2, 3, 47), (1, 2, 3, 48), (1, 2, 3, 49), (1, 2, 3, 50), (1, 2, 3, 51), (1, 2, 3, 52), (1, 2, 3, 53), (1, 2, 3, 54), (1, 2, 3, 55), (1, 2, 3, 56), (1, 2, 3, 57), (1, 2, 3, 58), (1, 2, 3, 59), (1, 2, 3, 60), (1, 2, 3, 61), (1, 2, 3, 62), (1, 2, 3, 63), (1, 2, 3, 64), (1, 2, 3, 65), (1, 2, 3, 66), (1, 2, 3, 67), (1, 2, 3, 68), (1, 2, 3, 69), (1, 2, 3, 70), (1, 2, 3, 71), (1, 2, 3, 72), (1, 2, 3, 73), (1, 2, 3, 74), (1, 2, 3, 75), (1, 2, 3, 76), (1, 2, 3, 77), (1, 2, 3, 78), (1, 2, 3, 79), (1, 2, 3, 80), (1, 2, 4, 5), (1, 2, 4, 6), (1, 2, 4, 7), (1, 2, 4, 8), (1, 2, 4, 9), (1, 2, 4, 10), (1, 2, 4, 11), (1, 2, 4, 12), (1, 2, 4, 13), (1, 2, 4, 14), (1, 2, 4, 15), (1, 2, 4, 16), (1, 2, 4, 17), (1, 2, 4, 18), (1, 2, 4, 19), (1, 2, 4, 20), (1, 2, 4, 21), (1, 2, 4, 22), (1, 2, 4, 23), (1, 2, 4, 24), (1, 2, 4, 25), (1, 2, 4, 26), (1, 2, 4, 27)]\n"
     ]
    }
   ],
   "source": [
    "combinations = list(itertools.combinations(range(1,81), 4))\n",
    "print(list(combinations)[:100])\n",
    "\n",
    "# Make it a numpy array for faster calculations.\n",
    "\n",
    "comb_array = np.array(list(combinations))"
   ]
  },
  {
   "cell_type": "code",
   "execution_count": 105,
   "metadata": {},
   "outputs": [
    {
     "name": "stdout",
     "output_type": "stream",
     "text": [
      "1581580\n"
     ]
    }
   ],
   "source": [
    "\n",
    "print(len(combinations))"
   ]
  },
  {
   "cell_type": "code",
   "execution_count": 106,
   "metadata": {},
   "outputs": [],
   "source": [
    "# Creating the dictionary for the counter."
   ]
  },
  {
   "cell_type": "code",
   "execution_count": 107,
   "metadata": {},
   "outputs": [
    {
     "data": {
      "text/plain": [
       "4584"
      ]
     },
     "execution_count": 107,
     "metadata": {},
     "output_type": "execute_result"
    }
   ],
   "source": [
    "len(list_of_tupples)"
   ]
  },
  {
   "cell_type": "code",
   "execution_count": 108,
   "metadata": {},
   "outputs": [
    {
     "data": {
      "text/plain": [
       "1581580"
      ]
     },
     "execution_count": 108,
     "metadata": {},
     "output_type": "execute_result"
    }
   ],
   "source": [
    "len(combinations)"
   ]
  },
  {
   "cell_type": "code",
   "execution_count": 109,
   "metadata": {},
   "outputs": [
    {
     "data": {
      "text/plain": [
       "1533938"
      ]
     },
     "execution_count": 109,
     "metadata": {},
     "output_type": "execute_result"
    }
   ],
   "source": [
    "len(counter)"
   ]
  },
  {
   "cell_type": "code",
   "execution_count": 116,
   "metadata": {},
   "outputs": [
    {
     "name": "stderr",
     "output_type": "stream",
     "text": [
      "IOPub data rate exceeded.\n",
      "The notebook server will temporarily stop sending output\n",
      "to the client in order to avoid crashing it.\n",
      "To change this limit, set the config variable\n",
      "`--NotebookApp.iopub_data_rate_limit`.\n",
      "\n",
      "Current values:\n",
      "NotebookApp.iopub_data_rate_limit=1000000.0 (bytes/sec)\n",
      "NotebookApp.rate_limit_window=3.0 (secs)\n",
      "\n"
     ]
    }
   ],
   "source": [
    "combinations\n",
    "\n",
    "# Keys are the c####... combination number of lucky\n",
    "counter = { f'{combinations[k]}': 0  for k in range(1,len(combinations))}\n",
    "print(counter)\n",
    "\n",
    "   "
   ]
  },
  {
   "cell_type": "code",
   "execution_count": 123,
   "metadata": {},
   "outputs": [],
   "source": [
    "# extensive use of power.\n",
    "for i in range(1,100):\n",
    "    \n",
    "    for current_tupple in list_of_tupples:\n",
    "        if set(combinations[i]).issubset(current_tupple[1:]):\n",
    "            counter[f'{combinations[i]}'] += 1   "
   ]
  },
  {
   "cell_type": "code",
   "execution_count": 124,
   "metadata": {},
   "outputs": [
    {
     "name": "stdout",
     "output_type": "stream",
     "text": [
      "['(74, 75, 77, 79)', '(74, 75, 77, 80)', '(74, 75, 78, 79)', '(74, 75, 78, 80)', '(74, 75, 79, 80)', '(74, 76, 77, 78)', '(74, 76, 77, 79)', '(74, 76, 77, 80)', '(74, 76, 78, 79)', '(74, 76, 78, 80)', '(74, 76, 79, 80)', '(74, 77, 78, 79)', '(74, 77, 78, 80)', '(74, 77, 79, 80)', '(74, 78, 79, 80)', '(75, 76, 77, 78)', '(75, 76, 77, 79)', '(75, 76, 77, 80)', '(75, 76, 78, 79)', '(75, 76, 78, 80)'] [0, 0, 0, 0, 0, 0, 0, 0, 0, 0, 0, 0, 0, 0, 0, 0, 0, 0, 0, 0]\n"
     ]
    }
   ],
   "source": [
    "print(list(counter.keys())[-30:-10], list(counter.values())[-30:-10])"
   ]
  },
  {
   "cell_type": "code",
   "execution_count": null,
   "metadata": {},
   "outputs": [],
   "source": [
    "def count_propability():\n",
    "    lucky_numbers = comb_array[]\n",
    "    counter = 0 \n",
    "    loop_number = 0\n",
    "    for current_tupple in list_of_tupples:\n",
    "        lucky_numbers = comb_array[loop_number]\n",
    "        if set(lucky_numbers).issubset(current_tupple[1:]):\n",
    "            counter += 1\n",
    "            "
   ]
  }
 ],
 "metadata": {
  "kernelspec": {
   "display_name": "Python 3 (ipykernel)",
   "language": "python",
   "name": "python3"
  },
  "language_info": {
   "codemirror_mode": {
    "name": "ipython",
    "version": 3
   },
   "file_extension": ".py",
   "mimetype": "text/x-python",
   "name": "python",
   "nbconvert_exporter": "python",
   "pygments_lexer": "ipython3",
   "version": "3.8.8"
  }
 },
 "nbformat": 4,
 "nbformat_minor": 2
}
