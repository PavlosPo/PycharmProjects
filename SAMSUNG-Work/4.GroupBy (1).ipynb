{
 "cells": [
  {
   "cell_type": "code",
   "execution_count": 3,
   "metadata": {},
   "outputs": [],
   "source": [
    "import pandas as pd"
   ]
  },
  {
   "cell_type": "code",
   "execution_count": 4,
   "metadata": {},
   "outputs": [
    {
     "data": {
      "text/html": [
       "<div>\n",
       "<style scoped>\n",
       "    .dataframe tbody tr th:only-of-type {\n",
       "        vertical-align: middle;\n",
       "    }\n",
       "\n",
       "    .dataframe tbody tr th {\n",
       "        vertical-align: top;\n",
       "    }\n",
       "\n",
       "    .dataframe thead th {\n",
       "        text-align: right;\n",
       "    }\n",
       "</style>\n",
       "<table border=\"1\" class=\"dataframe\">\n",
       "  <thead>\n",
       "    <tr style=\"text-align: right;\">\n",
       "      <th></th>\n",
       "      <th>animal</th>\n",
       "      <th>id</th>\n",
       "      <th>age</th>\n",
       "      <th>weight</th>\n",
       "      <th>length</th>\n",
       "    </tr>\n",
       "  </thead>\n",
       "  <tbody>\n",
       "    <tr>\n",
       "      <th>0</th>\n",
       "      <td>hamster</td>\n",
       "      <td>1</td>\n",
       "      <td>1.0</td>\n",
       "      <td>7</td>\n",
       "      <td>NaN</td>\n",
       "    </tr>\n",
       "    <tr>\n",
       "      <th>1</th>\n",
       "      <td>alligator</td>\n",
       "      <td>2</td>\n",
       "      <td>9.0</td>\n",
       "      <td>13</td>\n",
       "      <td>6.0</td>\n",
       "    </tr>\n",
       "    <tr>\n",
       "      <th>2</th>\n",
       "      <td>alligator</td>\n",
       "      <td>2</td>\n",
       "      <td>9.0</td>\n",
       "      <td>13</td>\n",
       "      <td>6.0</td>\n",
       "    </tr>\n",
       "    <tr>\n",
       "      <th>3</th>\n",
       "      <td>hamster</td>\n",
       "      <td>3</td>\n",
       "      <td>5.0</td>\n",
       "      <td>8</td>\n",
       "      <td>9.0</td>\n",
       "    </tr>\n",
       "    <tr>\n",
       "      <th>4</th>\n",
       "      <td>cat</td>\n",
       "      <td>3</td>\n",
       "      <td>13.0</td>\n",
       "      <td>12</td>\n",
       "      <td>1.0</td>\n",
       "    </tr>\n",
       "  </tbody>\n",
       "</table>\n",
       "</div>"
      ],
      "text/plain": [
       "      animal id   age weight  length\n",
       "0    hamster  1   1.0      7     NaN\n",
       "1  alligator  2   9.0     13     6.0\n",
       "2  alligator  2   9.0     13     6.0\n",
       "3    hamster  3   5.0      8     9.0\n",
       "4        cat  3  13.0     12     1.0"
      ]
     },
     "execution_count": 4,
     "metadata": {},
     "output_type": "execute_result"
    }
   ],
   "source": [
    "df = pd.read_csv('animals.csv')\n",
    "df.head()"
   ]
  },
  {
   "cell_type": "markdown",
   "metadata": {},
   "source": [
    "#### groupby ()"
   ]
  },
  {
   "cell_type": "code",
   "execution_count": 5,
   "metadata": {},
   "outputs": [
    {
     "name": "stdout",
     "output_type": "stream",
     "text": [
      "<class 'pandas.core.groupby.generic.DataFrameGroupBy'>\n",
      "<pandas.core.groupby.generic.DataFrameGroupBy object at 0x0000026CB41C7848>\n"
     ]
    }
   ],
   "source": [
    "#Now you can use the .groupby() method to group rows together based on a column name.\n",
    "#For instance let's group based on Animal. This will create a DataFrameGroupBy object:\n",
    "by_animal = df.groupby(\"animal\")\n",
    "print(type(by_animal))\n",
    "print(by_animal)#this type of object is not very usefull, but there are numberous interesting fuction to work on it"
   ]
  },
  {
   "cell_type": "code",
   "execution_count": 6,
   "metadata": {},
   "outputs": [
    {
     "data": {
      "text/html": [
       "<div>\n",
       "<style scoped>\n",
       "    .dataframe tbody tr th:only-of-type {\n",
       "        vertical-align: middle;\n",
       "    }\n",
       "\n",
       "    .dataframe tbody tr th {\n",
       "        vertical-align: top;\n",
       "    }\n",
       "\n",
       "    .dataframe thead tr th {\n",
       "        text-align: left;\n",
       "    }\n",
       "\n",
       "    .dataframe thead tr:last-of-type th {\n",
       "        text-align: right;\n",
       "    }\n",
       "</style>\n",
       "<table border=\"1\" class=\"dataframe\">\n",
       "  <thead>\n",
       "    <tr>\n",
       "      <th></th>\n",
       "      <th colspan=\"8\" halign=\"left\">age</th>\n",
       "      <th colspan=\"8\" halign=\"left\">length</th>\n",
       "    </tr>\n",
       "    <tr>\n",
       "      <th></th>\n",
       "      <th>count</th>\n",
       "      <th>mean</th>\n",
       "      <th>std</th>\n",
       "      <th>min</th>\n",
       "      <th>25%</th>\n",
       "      <th>50%</th>\n",
       "      <th>75%</th>\n",
       "      <th>max</th>\n",
       "      <th>count</th>\n",
       "      <th>mean</th>\n",
       "      <th>std</th>\n",
       "      <th>min</th>\n",
       "      <th>25%</th>\n",
       "      <th>50%</th>\n",
       "      <th>75%</th>\n",
       "      <th>max</th>\n",
       "    </tr>\n",
       "    <tr>\n",
       "      <th>animal</th>\n",
       "      <th></th>\n",
       "      <th></th>\n",
       "      <th></th>\n",
       "      <th></th>\n",
       "      <th></th>\n",
       "      <th></th>\n",
       "      <th></th>\n",
       "      <th></th>\n",
       "      <th></th>\n",
       "      <th></th>\n",
       "      <th></th>\n",
       "      <th></th>\n",
       "      <th></th>\n",
       "      <th></th>\n",
       "      <th></th>\n",
       "      <th></th>\n",
       "    </tr>\n",
       "  </thead>\n",
       "  <tbody>\n",
       "    <tr>\n",
       "      <th>alligator</th>\n",
       "      <td>3.0</td>\n",
       "      <td>8.333333</td>\n",
       "      <td>1.154701</td>\n",
       "      <td>7.0</td>\n",
       "      <td>8.00</td>\n",
       "      <td>9.0</td>\n",
       "      <td>9.00</td>\n",
       "      <td>9.0</td>\n",
       "      <td>3.0</td>\n",
       "      <td>5.666667</td>\n",
       "      <td>0.577350</td>\n",
       "      <td>5.0</td>\n",
       "      <td>5.50</td>\n",
       "      <td>6.0</td>\n",
       "      <td>6.00</td>\n",
       "      <td>6.0</td>\n",
       "    </tr>\n",
       "    <tr>\n",
       "      <th>book</th>\n",
       "      <td>1.0</td>\n",
       "      <td>56.000000</td>\n",
       "      <td>NaN</td>\n",
       "      <td>56.0</td>\n",
       "      <td>56.00</td>\n",
       "      <td>56.0</td>\n",
       "      <td>56.00</td>\n",
       "      <td>56.0</td>\n",
       "      <td>0.0</td>\n",
       "      <td>NaN</td>\n",
       "      <td>NaN</td>\n",
       "      <td>NaN</td>\n",
       "      <td>NaN</td>\n",
       "      <td>NaN</td>\n",
       "      <td>NaN</td>\n",
       "      <td>NaN</td>\n",
       "    </tr>\n",
       "    <tr>\n",
       "      <th>cat</th>\n",
       "      <td>4.0</td>\n",
       "      <td>10.250000</td>\n",
       "      <td>4.500000</td>\n",
       "      <td>4.0</td>\n",
       "      <td>8.50</td>\n",
       "      <td>11.5</td>\n",
       "      <td>13.25</td>\n",
       "      <td>14.0</td>\n",
       "      <td>4.0</td>\n",
       "      <td>5.500000</td>\n",
       "      <td>3.316625</td>\n",
       "      <td>1.0</td>\n",
       "      <td>4.75</td>\n",
       "      <td>6.0</td>\n",
       "      <td>6.75</td>\n",
       "      <td>9.0</td>\n",
       "    </tr>\n",
       "    <tr>\n",
       "      <th>hamster</th>\n",
       "      <td>4.0</td>\n",
       "      <td>5.500000</td>\n",
       "      <td>5.916080</td>\n",
       "      <td>1.0</td>\n",
       "      <td>1.75</td>\n",
       "      <td>3.5</td>\n",
       "      <td>7.25</td>\n",
       "      <td>14.0</td>\n",
       "      <td>3.0</td>\n",
       "      <td>6.666667</td>\n",
       "      <td>2.081666</td>\n",
       "      <td>5.0</td>\n",
       "      <td>5.50</td>\n",
       "      <td>6.0</td>\n",
       "      <td>7.50</td>\n",
       "      <td>9.0</td>\n",
       "    </tr>\n",
       "    <tr>\n",
       "      <th>snake</th>\n",
       "      <td>1.0</td>\n",
       "      <td>7.000000</td>\n",
       "      <td>NaN</td>\n",
       "      <td>7.0</td>\n",
       "      <td>7.00</td>\n",
       "      <td>7.0</td>\n",
       "      <td>7.00</td>\n",
       "      <td>7.0</td>\n",
       "      <td>1.0</td>\n",
       "      <td>6.000000</td>\n",
       "      <td>NaN</td>\n",
       "      <td>6.0</td>\n",
       "      <td>6.00</td>\n",
       "      <td>6.0</td>\n",
       "      <td>6.00</td>\n",
       "      <td>6.0</td>\n",
       "    </tr>\n",
       "    <tr>\n",
       "      <th>ssnake</th>\n",
       "      <td>1.0</td>\n",
       "      <td>14.000000</td>\n",
       "      <td>NaN</td>\n",
       "      <td>14.0</td>\n",
       "      <td>14.00</td>\n",
       "      <td>14.0</td>\n",
       "      <td>14.00</td>\n",
       "      <td>14.0</td>\n",
       "      <td>1.0</td>\n",
       "      <td>8.000000</td>\n",
       "      <td>NaN</td>\n",
       "      <td>8.0</td>\n",
       "      <td>8.00</td>\n",
       "      <td>8.0</td>\n",
       "      <td>8.00</td>\n",
       "      <td>8.0</td>\n",
       "    </tr>\n",
       "  </tbody>\n",
       "</table>\n",
       "</div>"
      ],
      "text/plain": [
       "            age                                                      length  \\\n",
       "          count       mean       std   min    25%   50%    75%   max  count   \n",
       "animal                                                                        \n",
       "alligator   3.0   8.333333  1.154701   7.0   8.00   9.0   9.00   9.0    3.0   \n",
       "book        1.0  56.000000       NaN  56.0  56.00  56.0  56.00  56.0    0.0   \n",
       "cat         4.0  10.250000  4.500000   4.0   8.50  11.5  13.25  14.0    4.0   \n",
       "hamster     4.0   5.500000  5.916080   1.0   1.75   3.5   7.25  14.0    3.0   \n",
       "snake       1.0   7.000000       NaN   7.0   7.00   7.0   7.00   7.0    1.0   \n",
       "ssnake      1.0  14.000000       NaN  14.0  14.00  14.0  14.00  14.0    1.0   \n",
       "\n",
       "                                                          \n",
       "               mean       std  min   25%  50%   75%  max  \n",
       "animal                                                    \n",
       "alligator  5.666667  0.577350  5.0  5.50  6.0  6.00  6.0  \n",
       "book            NaN       NaN  NaN   NaN  NaN   NaN  NaN  \n",
       "cat        5.500000  3.316625  1.0  4.75  6.0  6.75  9.0  \n",
       "hamster    6.666667  2.081666  5.0  5.50  6.0  7.50  9.0  \n",
       "snake      6.000000       NaN  6.0  6.00  6.0  6.00  6.0  \n",
       "ssnake     8.000000       NaN  8.0  8.00  8.0  8.00  8.0  "
      ]
     },
     "execution_count": 6,
     "metadata": {},
     "output_type": "execute_result"
    }
   ],
   "source": [
    "by_animal.describe()"
   ]
  },
  {
   "cell_type": "code",
   "execution_count": 7,
   "metadata": {},
   "outputs": [
    {
     "data": {
      "text/html": [
       "<div>\n",
       "<style scoped>\n",
       "    .dataframe tbody tr th:only-of-type {\n",
       "        vertical-align: middle;\n",
       "    }\n",
       "\n",
       "    .dataframe tbody tr th {\n",
       "        vertical-align: top;\n",
       "    }\n",
       "\n",
       "    .dataframe thead th {\n",
       "        text-align: right;\n",
       "    }\n",
       "</style>\n",
       "<table border=\"1\" class=\"dataframe\">\n",
       "  <thead>\n",
       "    <tr style=\"text-align: right;\">\n",
       "      <th></th>\n",
       "      <th>age</th>\n",
       "      <th>length</th>\n",
       "    </tr>\n",
       "    <tr>\n",
       "      <th>animal</th>\n",
       "      <th></th>\n",
       "      <th></th>\n",
       "    </tr>\n",
       "  </thead>\n",
       "  <tbody>\n",
       "    <tr>\n",
       "      <th>alligator</th>\n",
       "      <td>8.333333</td>\n",
       "      <td>5.666667</td>\n",
       "    </tr>\n",
       "    <tr>\n",
       "      <th>book</th>\n",
       "      <td>56.000000</td>\n",
       "      <td>NaN</td>\n",
       "    </tr>\n",
       "    <tr>\n",
       "      <th>cat</th>\n",
       "      <td>10.250000</td>\n",
       "      <td>5.500000</td>\n",
       "    </tr>\n",
       "    <tr>\n",
       "      <th>hamster</th>\n",
       "      <td>5.500000</td>\n",
       "      <td>6.666667</td>\n",
       "    </tr>\n",
       "    <tr>\n",
       "      <th>snake</th>\n",
       "      <td>7.000000</td>\n",
       "      <td>6.000000</td>\n",
       "    </tr>\n",
       "    <tr>\n",
       "      <th>ssnake</th>\n",
       "      <td>14.000000</td>\n",
       "      <td>8.000000</td>\n",
       "    </tr>\n",
       "  </tbody>\n",
       "</table>\n",
       "</div>"
      ],
      "text/plain": [
       "                 age    length\n",
       "animal                        \n",
       "alligator   8.333333  5.666667\n",
       "book       56.000000       NaN\n",
       "cat        10.250000  5.500000\n",
       "hamster     5.500000  6.666667\n",
       "snake       7.000000  6.000000\n",
       "ssnake     14.000000  8.000000"
      ]
     },
     "execution_count": 7,
     "metadata": {},
     "output_type": "execute_result"
    }
   ],
   "source": [
    "by_animal.mean() # we can also use min, max , median, count etc"
   ]
  },
  {
   "cell_type": "markdown",
   "metadata": {},
   "source": [
    "#### size() "
   ]
  },
  {
   "cell_type": "code",
   "execution_count": 8,
   "metadata": {
    "scrolled": true
   },
   "outputs": [
    {
     "name": "stdout",
     "output_type": "stream",
     "text": [
      "animal\n",
      "alligator    3\n",
      "book         1\n",
      "cat          4\n",
      "hamster      4\n",
      "snake        1\n",
      "ssnake       1\n",
      "dtype: int64\n"
     ]
    }
   ],
   "source": [
    "print(by_animal.size())#Series"
   ]
  },
  {
   "cell_type": "code",
   "execution_count": 21,
   "metadata": {},
   "outputs": [
    {
     "name": "stdout",
     "output_type": "stream",
     "text": [
      "alligator  :  1\n",
      "book  :  1\n",
      "cat  :  1\n",
      "hamster  :  1\n",
      "snake  :  1\n",
      "ssnake  :  1\n"
     ]
    }
   ],
   "source": [
    "for index_animal, value in by_animal.size().items():\n",
    "    print (index_animal , \" : \",indexes)"
   ]
  },
  {
   "cell_type": "code",
   "execution_count": 15,
   "metadata": {},
   "outputs": [
    {
     "name": "stdout",
     "output_type": "stream",
     "text": [
      "Index(['alligator', 'book', 'cat', 'hamster', 'snake', 'ssnake'], dtype='object', name='animal')\n",
      "['alligator', 'book', 'cat', 'hamster', 'snake', 'ssnake']\n"
     ]
    }
   ],
   "source": [
    "print(by_animal.size().index) ##Doesn't it look like a list??\n",
    "print(by_animal.size().index.tolist())"
   ]
  },
  {
   "cell_type": "code",
   "execution_count": 16,
   "metadata": {},
   "outputs": [
    {
     "data": {
      "text/plain": [
       "[3, 1, 4, 4, 1, 1]"
      ]
     },
     "execution_count": 16,
     "metadata": {},
     "output_type": "execute_result"
    }
   ],
   "source": [
    "by_animal.size().values.tolist() ##Doesn't it look like a list??"
   ]
  },
  {
   "cell_type": "markdown",
   "metadata": {},
   "source": [
    "#### get_group()"
   ]
  },
  {
   "cell_type": "code",
   "execution_count": 10,
   "metadata": {},
   "outputs": [
    {
     "name": "stdout",
     "output_type": "stream",
     "text": [
      "     animal  id   age weight  length\n",
      "0   hamster   1   1.0      7     NaN\n",
      "3   hamster   3   5.0      8     9.0\n",
      "7   hamster   7   2.0     10     5.0\n",
      "11  hamster  11  14.0     10     6.0\n",
      "<class 'pandas.core.frame.DataFrame'>\n"
     ]
    }
   ],
   "source": [
    "#Print all rows of hamster group\n",
    "print (by_animal.get_group('hamster'))\n",
    "print(type(by_animal.get_group('hamster')))"
   ]
  },
  {
   "cell_type": "code",
   "execution_count": 11,
   "metadata": {},
   "outputs": [
    {
     "name": "stdout",
     "output_type": "stream",
     "text": [
      "Mean on all numerical values regarding hamsters: \n",
      " id          3427.750000\n",
      "age            5.500000\n",
      "weight    195252.500000\n",
      "length         6.666667\n",
      "dtype: float64\n",
      "\n",
      "The heaviest hamster weights : 8  kilos\n"
     ]
    }
   ],
   "source": [
    "print (\"Mean on all numerical values regarding hamsters: \\n\",by_animal.get_group('hamster').mean())#series\n",
    "print()\n",
    "print (\"The heaviest hamster weights :\",by_animal.get_group('hamster')['weight'].max(), \" kilos\")#simple value"
   ]
  },
  {
   "cell_type": "markdown",
   "metadata": {},
   "source": [
    "#### groups - attribute"
   ]
  },
  {
   "cell_type": "code",
   "execution_count": 12,
   "metadata": {},
   "outputs": [
    {
     "name": "stdout",
     "output_type": "stream",
     "text": [
      "{'alligator': Int64Index([1, 2, 12], dtype='int64'), 'book': Int64Index([13], dtype='int64'), 'cat': Int64Index([4, 6, 8, 9], dtype='int64'), 'hamster': Int64Index([0, 3, 7, 11], dtype='int64'), 'snake': Int64Index([10], dtype='int64'), 'ssnake': Int64Index([5], dtype='int64')}\n"
     ]
    }
   ],
   "source": [
    "#View Groups\n",
    "print (by_animal.groups)#Doesn't it look like a dict??"
   ]
  },
  {
   "cell_type": "code",
   "execution_count": 14,
   "metadata": {},
   "outputs": [
    {
     "name": "stdout",
     "output_type": "stream",
     "text": [
      "alligator  : can be found in index(es)  [1, 2, 12]\n",
      "book  : can be found in index(es)  [13]\n",
      "cat  : can be found in index(es)  [4, 6, 8, 9]\n",
      "hamster  : can be found in index(es)  [0, 3, 7, 11]\n",
      "snake  : can be found in index(es)  [10]\n",
      "ssnake  : can be found in index(es)  [5]\n"
     ]
    }
   ],
   "source": [
    "for animal, index in by_animal.groups.items():\n",
    "    print (animal,' : can be found in index(es) ', index.tolist())"
   ]
  }
 ],
 "metadata": {
  "kernelspec": {
   "display_name": "Python 3",
   "language": "python",
   "name": "python3"
  },
  "language_info": {
   "codemirror_mode": {
    "name": "ipython",
    "version": 3
   },
   "file_extension": ".py",
   "mimetype": "text/x-python",
   "name": "python",
   "nbconvert_exporter": "python",
   "pygments_lexer": "ipython3",
   "version": "3.7.3"
  }
 },
 "nbformat": 4,
 "nbformat_minor": 4
}
